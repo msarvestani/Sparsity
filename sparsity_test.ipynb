{
 "cells": [
  {
   "cell_type": "markdown",
   "metadata": {},
   "source": [
    "# This notebook will plot the distribution of V1 cell responses to natural images. The data is 2P calcium responses in the mouse brain, from the Allen Brain Observatory. "
   ]
  },
  {
   "cell_type": "code",
   "execution_count": 35,
   "metadata": {
    "collapsed": false
   },
   "outputs": [
    {
     "name": "stdout",
     "output_type": "stream",
     "text": [
      "all cre lines:\n",
      "\n",
      "[u'Cux2-CreERT2', u'Emx1-IRES-Cre', u'Nr5a1-Cre', u'Rbp4-Cre', u'Rbp4-Cre_KL100', u'Rorb-IRES2-Cre', u'Scnn1a-Tg3-Cre']\n"
     ]
    }
   ],
   "source": [
    "#load data (V1, natural image responses) for a sample mouse\n",
    "import os\n",
    "import platform\n",
    "import pandas as pd\n",
    "import numpy as np\n",
    "from allensdk.core.brain_observatory_cache import BrainObservatoryCache\n",
    "import allensdk.brain_observatory.stimulus_info as stim_info\n",
    "\n",
    "\n",
    "\n",
    "#sets the drive path of hard-disk containing observatory data, based on current OS\n",
    "if platform.system()=='Windows':\n",
    "    drive_path = 'g:/'\n",
    "else:\n",
    "    drive_path = '/Volumes/Brain2016/'\n",
    "    \n",
    "\n",
    "manifest_path = os.path.join(drive_path, 'BrainObservatory/manifest.json')\n",
    "boc = BrainObservatoryCache(manifest_file=manifest_path)\n",
    "\n",
    "cre_lines = boc.get_all_cre_lines()\n",
    "print(\"all cre lines:\\n\")\n",
    "print(cre_lines)\n"
   ]
  },
  {
   "cell_type": "code",
   "execution_count": 36,
   "metadata": {
    "collapsed": false
   },
   "outputs": [
    {
     "name": "stdout",
     "output_type": "stream",
     "text": [
      "4\n",
      "Experiment container info:\n",
      "{'session_type': u'three_session_B', 'age_days': 80.0, 'imaging_depth': 375, 'experiment_container_id': 511511015, 'targeted_structure': u'VISpm', 'cre_line': u'Rbp4-Cre', 'id': 510706209}\n"
     ]
    }
   ],
   "source": [
    "# find all experiment containers that are from V1 and have natural gratings, and choose 1\n",
    "rbp4_ecs = boc.get_experiment_containers(targeted_structures=['VISpm'],cre_lines=['Rbp4-Cre'])\n",
    "\n",
    "container_id = rbp4_ecs[0]['id']\n",
    "print len(rbp4_ecs)\n",
    "\n",
    "exp = boc.get_ophys_experiments(experiment_container_ids=[container_id], \n",
    "                                stimuli=[stim_info.NATURAL_SCENES])[0]\n",
    "\n",
    "\n",
    "print('Experiment container info:')\n",
    "print exp\n",
    "\n"
   ]
  },
  {
   "cell_type": "code",
   "execution_count": 37,
   "metadata": {
    "collapsed": false
   },
   "outputs": [],
   "source": [
    "# get the data\n",
    "data_set = boc.get_ophys_experiment_data(exp['id'])\n",
    "specimens=data_set.get_cell_specimen_ids()\n",
    "timestamps, traces = data_set.get_dff_traces()\n"
   ]
  },
  {
   "cell_type": "code",
   "execution_count": 56,
   "metadata": {
    "collapsed": false
   },
   "outputs": [
    {
     "name": "stdout",
     "output_type": "stream",
     "text": [
      "(60,)\n"
     ]
    }
   ],
   "source": [
    "# stimulus info\n",
    "# there are 118 (0-117) natural images. images were luminance matched, contrast-normalized, and resized.\n",
    "# each image was presented for 250 ms, with no inter-image gray period\n",
    "# each image was presented 50 times, in random order\n",
    "# there was a blank sweep roughly once every 100 images. this is coded as a -1\n",
    "# these 118*50=5900+59 images were split across three sessions\n",
    "\n",
    "# pull out the stim info\n",
    "stim_list=['natural_scenes_1','natural_scenes_2','natural_scenes_3']\n",
    "\n",
    "stim_table = data_set.get_stimulus_table('natural_scenes')\n",
    "#print stim_table\n",
    "\n",
    "image_id = stim_table.frame; # this is the index of the image\n",
    "\n",
    "#find the indices of each block\n",
    "diff_start=np.diff(stim_table.start)\n",
    "sort_index=np.argsort(diff_start)[::-1]\n",
    "sorted_diff_start=diff_start[sort_index]\n",
    "start1_ind=0\n",
    "end1_ind=min(sort_index[0:2])\n",
    "start2_ind=end1_ind+1\n",
    "end2_ind = max(sort_index[0:2])\n",
    "start3_ind=end2_ind+1\n",
    "end3_ind=len(stim_table.start)-1\n",
    "\n",
    "#if the duration of any of the above blocks is greater than 9 minutes (14483 frames), something went wrong\n",
    "if (stim_table.end[end1_ind]-stim_table.start[start1_ind]>16300) or \\\n",
    "        (stim_table.end[end2_ind]-stim_table.start[start2_ind]>16300) or\\\n",
    "        (stim_table.end[end3_ind]-stim_table.start[start3_ind]>16300):\n",
    "    raise ValueError('The start and end indices for one of the blocks is wrong!!')\n",
    "\n",
    "\n",
    "reponses_1 = traces[:, stim_table.start[start1_ind]: stim_table.end[end1_ind]]\n",
    "reponses_2 = traces[:, stim_table.start[start2_ind]: stim_table.end[end2_ind]]\n",
    "reponses_3 = traces[:, stim_table.start[start3_ind]: stim_table.end[end3_ind]]\n",
    "\n",
    "responses = np.concatenate((reponses_1, reponses_2, reponses_3), axis=1)\n"
   ]
  },
  {
   "cell_type": "code",
   "execution_count": 57,
   "metadata": {
    "collapsed": false
   },
   "outputs": [
    {
     "name": "stdout",
     "output_type": "stream",
     "text": [
      "done analyzing natural scenes\n"
     ]
    }
   ],
   "source": [
    "# plot the response of a cell to each image (how to handle resposnes to repeated images)\n",
    "from allensdk.brain_observatory.natural_scenes import NaturalScenes\n",
    "ns = NaturalScenes(data_set)\n",
    "print(\"done analyzing natural scenes\")\n"
   ]
  },
  {
   "cell_type": "code",
   "execution_count": 66,
   "metadata": {
    "collapsed": false
   },
   "outputs": [
    {
     "name": "stdout",
     "output_type": "stream",
     "text": [
      "  scene_ns response_reliability_ns peak_dff_ns     ptest_ns   p_run_ns  \\\n",
      "0       86                      32     8.57634   0.00539851  0.0103639   \n",
      "1       28                      16     9.55525  1.63892e-12   0.989632   \n",
      "2        8                      30     4.36427    0.0680315   0.223827   \n",
      "3       17                       6     4.55452     0.914136   0.404494   \n",
      "4       76                      28     4.69845     0.309795   0.588902   \n",
      "\n",
      "  run_modulation_ns time_to_peak_ns duration_ns cell_specimen_id  \n",
      "0           13.8598         0.29925     0.03325        517443037  \n",
      "1           2.61532           0.399      0.8645        517442700  \n",
      "2           6.04167          1.1305     0.03325        517443481  \n",
      "3          -9.78684         0.96425     0.03325        517443309  \n",
      "4           3.14021         0.89775      0.0665        517443492  \n",
      "scene_ns                           86\n",
      "response_reliability_ns            32\n",
      "peak_dff_ns                   8.57634\n",
      "ptest_ns                   0.00539851\n",
      "p_run_ns                    0.0103639\n",
      "Name: 0, dtype: object\n"
     ]
    }
   ],
   "source": [
    "#The peak property of the analysis object is a Pandas DataFrame of computed response metrics.\n",
    "# For natural scences this includes:\n",
    "print ns.peak.head()\n",
    "\n",
    "# or you can just print the values for a particular cell\n",
    "specimen_id = specimens[0]\n",
    "specimen_ids = data_set.get_cell_specimen_ids()\n",
    "cell_loc = np.argwhere(specimen_ids==specimen_id)[0][0]\n",
    "\n",
    "print ns.peak.loc[cell_loc].head()\n"
   ]
  },
  {
   "cell_type": "code",
   "execution_count": 67,
   "metadata": {
    "collapsed": false
   },
   "outputs": [
    {
     "name": "stdout",
     "output_type": "stream",
     "text": [
      "(119, 61, 3)\n"
     ]
    },
    {
     "ename": "AttributeError",
     "evalue": "'numpy.ndarray' object has no attribute 'loc'",
     "output_type": "error",
     "traceback": [
      "\u001b[0;31m---------------------------------------------------------------------------\u001b[0m",
      "\u001b[0;31mAttributeError\u001b[0m                            Traceback (most recent call last)",
      "\u001b[0;32m<ipython-input-67-3c879ac5ef1b>\u001b[0m in \u001b[0;36m<module>\u001b[0;34m()\u001b[0m\n\u001b[1;32m      7\u001b[0m \u001b[0;34m\u001b[0m\u001b[0m\n\u001b[1;32m      8\u001b[0m \u001b[0;31m# or, again, just do this for one cell\u001b[0m\u001b[0;34m\u001b[0m\u001b[0;34m\u001b[0m\u001b[0m\n\u001b[0;32m----> 9\u001b[0;31m \u001b[0;32mprint\u001b[0m \u001b[0mns\u001b[0m\u001b[0;34m.\u001b[0m\u001b[0mresponse\u001b[0m\u001b[0;34m.\u001b[0m\u001b[0mloc\u001b[0m\u001b[0;34m[\u001b[0m\u001b[0mcell_loc\u001b[0m\u001b[0;34m]\u001b[0m\u001b[0;34m.\u001b[0m\u001b[0mhead\u001b[0m\u001b[0;34m(\u001b[0m\u001b[0;34m)\u001b[0m\u001b[0;34m\u001b[0m\u001b[0m\n\u001b[0m",
      "\u001b[0;31mAttributeError\u001b[0m: 'numpy.ndarray' object has no attribute 'loc'"
     ]
    }
   ],
   "source": [
    "# The response property of the stimulus-specific analysis objects is 3-D array organized with the following dimensions:\n",
    "# 0: num. number of natural scene frames (118+blank)\n",
    "# 1: num. cells + 1 (running speed)\n",
    "# 2: 0=response mean, 1=response standard error of the mean, 2=number of signficant trials\n",
    "\n",
    "print np.shape(ns.response)\n"
   ]
  },
  {
   "cell_type": "code",
   "execution_count": 100,
   "metadata": {
    "collapsed": false
   },
   "outputs": [
    {
     "name": "stdout",
     "output_type": "stream",
     "text": [
      "2.91547601488 3.09395375558\n"
     ]
    },
    {
     "data": {
      "image/png": "[encoded data removed]",
      "text/plain": [
       "<matplotlib.figure.Figure at 0x12bd255d0>"
      ]
     },
     "metadata": {},
     "output_type": "display_data"
    }
   ],
   "source": [
    "# plot the mean response of one cell to all images\n",
    "import matplotlib.pyplot as plt\n",
    "%matplotlib inline\n",
    "from scipy import stats\n",
    "\n",
    "cell_loc=30\n",
    "mean_cell = np.squeeze(ns.response[:,cell_loc,0])\n",
    "\n",
    "fig, axs = plt.subplots(1, 2, figsize=(10, 5))\n",
    "axs = axs.ravel()\n",
    "\n",
    "axs[0].scatter(np.arange(0,119,1), mean_cell, color='k')\n",
    "axs[0].set_xlabel('Image index')\n",
    "axs[0].set_ylabel('Mean dff response (10 trials)')\n",
    "axs[0].set_title('Mean response of one cell to all uniqe images')\n",
    "\n",
    "axs[1].hist(mean_cell)\n",
    "axs[1].set_ylabel('Number of responses')\n",
    "axs[0].set_xlabel('Mean dff response (10 trials)')\n",
    "axs[1].set_title('Distribution of responses of once cell to all unique images')\n",
    "plt.tick_params(axis='y', which='both', top='off')\n",
    "\n",
    "#measure the kurtosis of the histogram\n",
    "k1=stats.kurtosis(mean_cell, axis=0, fisher=True, bias=True)\n",
    "k2=stats.kurtosis(mean_cell, axis=0, fisher=True, bias=False)\n",
    "print k1,k2\n"
   ]
  },
  {
   "cell_type": "code",
   "execution_count": 82,
   "metadata": {
    "collapsed": false
   },
   "outputs": [
    {
     "name": "stdout",
     "output_type": "stream",
     "text": [
      "(60, 44769)\n",
      "0 7\n"
     ]
    },
    {
     "data": {
      "text/plain": [
       "1.595623"
      ]
     },
     "execution_count": 82,
     "metadata": {},
     "output_type": "execute_result"
    }
   ],
   "source": [
    "# now caluclate the mean dff response yourself and make sure it's sort of similar\n",
    "print(np.shape(responses))\n",
    "trial_ind=0;\n",
    "ind1=trial_ind*7\n",
    "ind2=(trial_ind+1)*7\n",
    "print ind1,ind2\n",
    "np.mean(responses[0,ind1:ind2])"
   ]
  },
  {
   "cell_type": "markdown",
   "metadata": {},
   "source": [
    "7*118*50+50"
   ]
  },
  {
   "cell_type": "code",
   "execution_count": null,
   "metadata": {
    "collapsed": true
   },
   "outputs": [],
   "source": []
  },
  {
   "cell_type": "code",
   "execution_count": null,
   "metadata": {
    "collapsed": true
   },
   "outputs": [],
   "source": []
  }
 ],
 "metadata": {
  "kernelspec": {
   "display_name": "Python 2",
   "language": "python",
   "name": "python2"
  },
  "language_info": {
   "codemirror_mode": {
    "name": "ipython",
    "version": 2
   },
   "file_extension": ".py",
   "mimetype": "text/x-python",
   "name": "python",
   "nbconvert_exporter": "python",
   "pygments_lexer": "ipython2",
   "version": "2.7.12"
  }
 },
 "nbformat": 4,
 "nbformat_minor": 0
}
