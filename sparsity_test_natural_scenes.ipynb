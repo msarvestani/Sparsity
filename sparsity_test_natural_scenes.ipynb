{
 "cells": [
  {
   "cell_type": "markdown",
   "metadata": {},
   "source": [
    "# This notebook will plot the distribution of V1 cell responses to natural images. The data is 2P calcium responses in the mouse brain, from the Allen Brain Observatory. "
   ]
  },
  {
   "cell_type": "markdown",
   "metadata": {},
   "source": [
    "\n",
    "# First load the data for a sample mouse"
   ]
  },
  {
   "cell_type": "code",
   "execution_count": 1,
   "metadata": {
    "collapsed": false
   },
   "outputs": [
    {
     "name": "stdout",
     "output_type": "stream",
     "text": [
      "all cre lines:\n",
      "\n",
      "[u'Cux2-CreERT2', u'Emx1-IRES-Cre', u'Nr5a1-Cre', u'Rbp4-Cre', u'Rbp4-Cre_KL100', u'Rorb-IRES2-Cre', u'Scnn1a-Tg3-Cre']\n",
      "28\n",
      "Experiment container info:\n",
      "{'session_type': u'three_session_B', 'age_days': 169.0, 'imaging_depth': 375, 'experiment_container_id': 528544341, 'targeted_structure': u'VISp', 'cre_line': u'Emx1-IRES-Cre', 'id': 528713600}\n"
     ]
    }
   ],
   "source": [
    "#load data (V1, natural image responses) for a sample mouse\n",
    "import os\n",
    "import platform\n",
    "import pandas as pd\n",
    "import numpy as np\n",
    "import cPickle as cpickle\n",
    "\n",
    "from allensdk.core.brain_observatory_cache import BrainObservatoryCache\n",
    "import allensdk.brain_observatory.stimulus_info as stim_info\n",
    "\n",
    "\n",
    "#sets the drive path of hard-disk containing observatory data, based on current OS\n",
    "if platform.system()=='Windows':\n",
    "    drive_path = 'g:/'\n",
    "else:\n",
    "    drive_path = '/Volumes/Brain2016 3/'\n",
    "\n",
    "manifest_path = os.path.join(drive_path, 'BrainObservatory/manifest.json')\n",
    "boc = BrainObservatoryCache(manifest_file=manifest_path)\n",
    "\n",
    "cre_lines = boc.get_all_cre_lines()\n",
    "print(\"all cre lines:\\n\")\n",
    "print(cre_lines)\n",
    "\n",
    "# find all experiment containers that are from V1 and have natural gratings, and choose 1\n",
    "rbp4_ecs = boc.get_experiment_containers(targeted_structures=['VISp'],cre_lines=['Emx1-IRES-Cre'])\n",
    "\n",
    "container_id = rbp4_ecs[1]['id']\n",
    "print len(rbp4_ecs)\n",
    "\n",
    "exp = boc.get_ophys_experiments(experiment_container_ids=[container_id], \n",
    "                                stimuli=[stim_info.NATURAL_SCENES])[0]\n",
    "\n",
    "\n",
    "print('Experiment container info:')\n",
    "print exp\n",
    "\n",
    "# get the dff traces, and the stimulus, and pull out the raw dff traces in case we need these later\n",
    "data_set = boc.get_ophys_experiment_data(exp['id'])\n",
    "specimens=data_set.get_cell_specimen_ids()\n",
    "timestamps, traces = data_set.get_dff_traces()"
   ]
  },
  {
   "cell_type": "code",
   "execution_count": 2,
   "metadata": {
    "collapsed": false
   },
   "outputs": [],
   "source": [
    "# stimulus info\n",
    "# there are 118 (0-117) natural images. images were luminance matched, contrast-normalized, and resized.\n",
    "# each image was presented for 250 ms, with no inter-image gray period\n",
    "# each image was presented 50 times, in random order\n",
    "# there was a blank sweep roughly once every 100 images. this is coded as a -1\n",
    "# these 118*50=5900+59 images were split across three sessions\n",
    "\n",
    "# pull out the stim info\n",
    "stim_table = data_set.get_stimulus_table('natural_scenes') #table with image index and start and end times of each trial\n",
    "num_trials = np.shape(stim_table)[0]\n",
    "image_id = stim_table.frame; # this is the index of the image\n",
    "num_images = 119;\n",
    "\n",
    "# to acces the response during a particular trial, you would call\n",
    "cell_loc=0\n",
    "trial_loc=0\n",
    "sample_trace = traces[cell_loc,stim_table.start[trial_loc]-28:stim_table.end[trial_loc]+28] # the added second before and\n",
    "                                                                        # after the stimulus are to match\n",
    "                                                                        # the allenSDK's definition of sweep response\n",
    "\n",
    "    \n",
    "mean_responses=[]\n",
    "for i in range(num_trials):\n",
    "    mean_responses.append(np.mean(traces[:,stim_table.start[i]-28:stim_table.end[i]+28],axis=1))\n",
    "\n",
    "\n",
    "mean_responses = np.squeeze(np.array(mean_responses))"
   ]
  },
  {
   "cell_type": "code",
   "execution_count": null,
   "metadata": {
    "collapsed": true
   },
   "outputs": [],
   "source": [
    "# the mean trial responses are already pre-calculated in allenSDK, so we'll just use those instead of using the code above\n",
    "# to extract single traces and calculating a trial average. But remember that the traces extracted from the NWB (as above) will \n",
    "# have a global (experiment-wide) dff whereas the traces calculated from the SDK will have a local dff. See sweep-response-test\n",
    "# notebook. This shouldn't  produce huge differences in the sparicity stats, so we'll just use the allenSDK values.\n",
    "\n",
    "\n",
    "# For each trial, the ΔF/F for each cell was calculated using the mean fluorescence of the preceding 1 second\n",
    "# as the baseline Fo.\n",
    "\n",
    "# The mean response to each image presentation was defined as the mean change in dff during the 0.5 second period \n",
    "# following the start of the image presentation compared to the 1 second preceding the image presentation."
   ]
  },
  {
   "cell_type": "code",
   "execution_count": 3,
   "metadata": {
    "collapsed": false
   },
   "outputs": [
    {
     "name": "stdout",
     "output_type": "stream",
     "text": [
      "done analyzing natural scenes\n"
     ]
    }
   ],
   "source": [
    "# load pre-calculated trials and trial statisics from the allenSDK module\n",
    "from allensdk.brain_observatory.natural_scenes import NaturalScenes\n",
    "# allensdk.brain_observatory.natural_scenes.NaturalScenes(data_set, **kwargs)[source]\n",
    "ns = NaturalScenes(data_set)\n",
    "print(\"done analyzing natural scenes\")"
   ]
  },
  {
   "cell_type": "code",
   "execution_count": 4,
   "metadata": {
    "collapsed": true
   },
   "outputs": [],
   "source": [
    "# save the data\n",
    "results_file='sample_data.pkl'\n",
    "f=open(results_file,\"wb\")\n",
    "cpickle.dump(data_set, f,protocol=cpickle.HIGHEST_PROTOCOL)\n",
    "cpickle.dump(ns, f,protocol=cpickle.HIGHEST_PROTOCOL)\n",
    "cpickle.dump(stim_table, f,protocol=cpickle.HIGHEST_PROTOCOL)\n",
    "f.close()"
   ]
  },
  {
   "cell_type": "markdown",
   "metadata": {},
   "source": [
    "# Or, skip to here and just load the data saved after running above\n"
   ]
  },
  {
   "cell_type": "code",
   "execution_count": null,
   "metadata": {
    "collapsed": false
   },
   "outputs": [],
   "source": [
    "import os\n",
    "import platform\n",
    "import pandas as pd\n",
    "import numpy as np\n",
    "import cPickle as cpickle\n",
    "\n",
    "from allensdk.core.brain_observatory_cache import BrainObservatoryCache\n",
    "import allensdk.brain_observatory.stimulus_info as stim_info\n",
    "\n",
    "# load the data\n",
    "results_file='sample_data.pkl'\n",
    "print 'loading saved file'\n",
    "print results_file\n",
    "f = open(results_file, \"rb\")\n",
    "data_set = cpickle.load(f)\n",
    "ns = cpickle.load(f)\n",
    "stim_table = cpickle.load(f)\n",
    "f.close()\n",
    "#and calculate other quick things we'll need\n",
    "\n",
    "num_trials = np.shape(stim_table)[0]\n",
    "image_id = stim_table.frame; # this is the index of the image\n",
    "num_images = 119;\n",
    "\n",
    "# to acces the response during a particular trial, you would call\n",
    "cell_loc=0\n",
    "trial_loc=0"
   ]
  },
  {
   "cell_type": "code",
   "execution_count": 5,
   "metadata": {
    "collapsed": false
   },
   "outputs": [
    {
     "name": "stdout",
     "output_type": "stream",
     "text": [
      "trial_responses is a dataframe of size(5950, 93)\n",
      "sample response is a vector of size (63,) as it includes 1 sec before/after stim\n",
      "trial_means is a dataframe of size (5950, 93)\n",
      "sample_mean is a vector of size ()\n",
      "\n",
      "you can get the mean response averaged over all 50 repeats of an image using the ns.response module\n",
      "\n",
      "you can also get additional parameters using the ns.peak module\n",
      "scene_ns                           47\n",
      "response_reliability_ns            10\n",
      "peak_dff_ns                   3.98412\n",
      "ptest_ns                   0.00671601\n",
      "p_run_ns                          NaN\n",
      "Name: 0, dtype: object\n"
     ]
    }
   ],
   "source": [
    "# to get the sweep response\n",
    "trial_responses = ns.sweep_response\n",
    "print 'trial_responses is a dataframe of size' +np.str(np.shape(trial_responses))\n",
    "\n",
    "# to get the sweep response for a particular cell and trial\n",
    "sample_response = trial_responses[str(cell_loc)].iloc[trial_loc] \n",
    "print ('sample response is a vector of size ' +np.str(np.shape(sample_response))+' as it includes 1 sec before/after stim')\n",
    "\n",
    "# to get the mean trial response \n",
    "trial_means = ns.mean_sweep_response\n",
    "print ('trial_means is a dataframe of size ' +np.str(np.shape(trial_means)))\n",
    "\n",
    "# to get the mean sweep response for a particular cell and trial\n",
    "sample_mean = trial_means[str(cell_loc)].iloc[trial_loc] \n",
    "print ('sample_mean is a vector of size ' +np.str(np.shape(sample_mean)))\n",
    "\n",
    "\n",
    "# We can also get the mean triaal responses averaged over all 50 presentation of the same image using ns.responses\n",
    "# The response property of the stimulus-specific analysis objects is 3-D array organized with the following dimensions:\n",
    "# 0: num. number of natural scene frames (118+blank)\n",
    "# 1: num. cells + 1 (running speed)\n",
    "# 2: 0=response mean, 1=response standard error of the mean, 2=number of signficant trials\n",
    "\n",
    "# to get mean trial response averaged over all 50 presentations of an image\n",
    "mean_over_image = ns.response[:,cell_loc,0] #outputs a 119x1 vector of mean resonse over each image\n",
    "\n",
    "print '\\nyou can get the mean response averaged over all 50 repeats of an image using the ns.response module'\n",
    "\n",
    "#The peak property of the analysis object is a Pandas DataFrame of computed response metrics.\n",
    "# For natural scences this includes:\n",
    "\n",
    "# or you can just print the values for a particular cell\n",
    "specimen_id = specimens[0]\n",
    "specimen_ids = data_set.get_cell_specimen_ids()\n",
    "cell_loc = np.argwhere(specimen_ids==specimen_id)[0][0]\n",
    "\n",
    "\n",
    "print '\\nyou can also get additional parameters using the ns.peak module'\n",
    "print ns.peak.loc[cell_loc].head()\n",
    "\n",
    "# we weon't use these here. I'm just posting the code here for reference."
   ]
  },
  {
   "cell_type": "markdown",
   "metadata": {},
   "source": [
    "# Plot the response distribution one cell to all images"
   ]
  },
  {
   "cell_type": "code",
   "execution_count": 6,
   "metadata": {
    "collapsed": false
   },
   "outputs": [
    {
     "name": "stdout",
     "output_type": "stream",
     "text": [
      "kurtosis of distribution of responses, averaged over all unique images is 0.936862505377\n"
     ]
    },
    {
     "name": "stderr",
     "output_type": "stream",
     "text": [
      "/Users/madsarv/anaconda/lib/python2.7/site-packages/matplotlib/collections.py:590: FutureWarning: elementwise comparison failed; returning scalar instead, but in the future will perform elementwise comparison\n",
      "  if self._edgecolors == str('face'):\n"
     ]
    },
    {
     "data": {
      "image/png": "[encoded data removed]",
      "text/plain": [
       "<matplotlib.figure.Figure at 0x1141d2210>"
      ]
     },
     "metadata": {},
     "output_type": "display_data"
    }
   ],
   "source": [
    "import matplotlib.pyplot as plt\n",
    "%matplotlib inline\n",
    "from scipy import stats\n",
    "\n",
    "cell_loc=0\n",
    "\n",
    "######################### plot the mean response of one cell to all unique images (mean over 50 repeats of each image)\n",
    "mean_cell = np.squeeze(ns.response[:,cell_loc,0])\n",
    "\n",
    "fig, axs = plt.subplots(1, 2, figsize=(10, 5))\n",
    "axs = axs.ravel()\n",
    "\n",
    "axs[0].scatter(np.arange(0,119,1), mean_cell, color='k')\n",
    "axs[0].set_xlabel('Image index')\n",
    "axs[0].set_ylabel('Mean dff response (50 repeats)')\n",
    "axs[0].set_title('response of cell to all unique images')\n",
    "\n",
    "axs[1].hist(mean_cell)\n",
    "axs[1].set_ylabel('Number of responses')\n",
    "axs[1].set_xlabel('Mean dff response (50 repeats)')\n",
    "axs[1].set_title(' responses of cell to all unique images')\n",
    "plt.tick_params(axis='y', which='both', top='off')\n",
    "\n",
    "#measure the kurtosis of the histogram\n",
    "k1=stats.kurtosis(mean_cell, axis=0, fisher=True, bias=True)\n",
    "print 'kurtosis of distribution of responses, averaged over all unique images is '+ np.str(k1)"
   ]
  },
  {
   "cell_type": "markdown",
   "metadata": {
    "collapsed": true
   },
   "source": [
    "# Now define the sparsity of each cell's respones (lifetime sparseness) using two metrics:\n",
    "Both metrics will be calculated based on the average (over 50 repeats) response to each unique image.\n",
    "# 1) kurtosis of distribution of average response over 50 repeats. Higher values       indicate higher sparsity\n",
    "\n",
    "# 2) 1- (mean response over all/mean square response over all) <-- from literature\n",
    "\n",
    "# We'll compare these metrics on simulated and real data.\n"
   ]
  },
  {
   "cell_type": "code",
   "execution_count": 7,
   "metadata": {
    "collapsed": false
   },
   "outputs": [
    {
     "name": "stdout",
     "output_type": "stream",
     "text": [
      "the sparsity index (k) for a normal distribution should be 0, our code gives: -0.0379948725824\n",
      "the sparsity index (v) for a normal distribution should be 0, our code gives: 0.00443632290769\n"
     ]
    }
   ],
   "source": [
    "from scipy import stats\n",
    "\n",
    "# define the indices \n",
    "def get_indk(data):\n",
    "    return stats.kurtosis(data, axis=0, fisher=True, bias=True)\n",
    "\n",
    "def get_indv(data):\n",
    "    num_images = np.shape(data)[0]\n",
    "    mean_resp_cell = np.mean(np.abs(data))\n",
    "    numerator = mean_resp_cell**2\n",
    "    denominator = (1/float(num_images))*np.sum(np.array(data)**2)\n",
    "    sprs_indv = 1-(numerator/float(denominator))\n",
    "    return sprs_indv\n",
    "\n",
    "# test these indices on a distribution with known kurtosis (normal distribution has kurtosis of 0)\n",
    "data = 15+np.random.normal(0,1,10000) #data form normal distribution\n",
    "\n",
    "sprs_indk = get_indk(data)\n",
    "sprs_indv = get_indv(data)\n",
    "                 \n",
    "print 'the sparsity index (k) for a normal distribution should be 0, our code gives: ' +np.str(sprs_indk)\n",
    "print 'the sparsity index (v) for a normal distribution should be 0, our code gives: ' +np.str(sprs_indv)"
   ]
  },
  {
   "cell_type": "markdown",
   "metadata": {},
   "source": [
    "# Now get the lifetime sparsity metric for all cells in this mouse and plot distribution"
   ]
  },
  {
   "cell_type": "code",
   "execution_count": 8,
   "metadata": {
    "collapsed": false
   },
   "outputs": [
    {
     "data": {
      "text/plain": [
       "<matplotlib.text.Text at 0x132c51850>"
      ]
     },
     "execution_count": 8,
     "metadata": {},
     "output_type": "execute_result"
    },
    {
     "data": {
      "image/png": "[encoded data removed]",
      "text/plain": [
       "<matplotlib.figure.Figure at 0x1046eaa90>"
      ]
     },
     "metadata": {},
     "output_type": "display_data"
    }
   ],
   "source": [
    "num_cells = np.shape(ns.response[:,:,0])[1]-1\n",
    "\n",
    "sprs_indk = []\n",
    "sprs_indv = []\n",
    "for i in range(num_cells):\n",
    "    mean_over_image = np.squeeze(ns.response[:,i,0])\n",
    "    sprs_indk.append(get_indk(mean_over_image))\n",
    "    sprs_indv.append(get_indv(mean_over_image))\n",
    "\n",
    "    \n",
    "# now plot\n",
    "fig, axs = plt.subplots(1, 3, figsize=(15, 5))\n",
    "axs = axs.ravel()\n",
    "\n",
    "axs[0].hist(sprs_indk)\n",
    "axs[0].set_ylabel('Number of neurons')\n",
    "axs[0].set_xlabel('Lifetime Sparsity Index (kurtosis)')\n",
    "plt.tick_params(axis='y', which='both', top='off')\n",
    "\n",
    "axs[1].hist(sprs_indv)\n",
    "axs[1].set_xlabel('Lifetime Sparsity Index (CV)')\n",
    "plt.tick_params(axis='y', which='both', top='off')\n",
    "\n",
    "\n",
    "# plot the first two metrics against each other to see their correlation\n",
    "axs[2].scatter(sprs_indk,sprs_indv)\n",
    "axs[2].set_xlabel('Lifetime Sparsity Index (kurtosis)')\n",
    "axs[2].set_ylabel('Lifetime Sparsity Index (CV)')\n",
    "axs[2].set_title('Comparison of two lifetime sparsity metrics')"
   ]
  },
  {
   "cell_type": "markdown",
   "metadata": {},
   "source": [
    "# Now get the population sparsity metric for all images in this mouse.\n",
    "The population sparisty metric uses the same equations (kurtosis, CV) to calculate the sparseness of responses of ALL cells to one image. This is in contrast to the 'lifetime' sparsity metric above, where the sparseness is defined over the responses of ONE cell to all images."
   ]
  },
  {
   "cell_type": "code",
   "execution_count": 9,
   "metadata": {
    "collapsed": false
   },
   "outputs": [
    {
     "data": {
      "text/plain": [
       "<matplotlib.text.Text at 0x12f36a950>"
      ]
     },
     "execution_count": 9,
     "metadata": {},
     "output_type": "execute_result"
    },
    {
     "data": {
      "image/png": "[encoded data removed]",
      "text/plain": [
       "<matplotlib.figure.Figure at 0x12f073250>"
      ]
     },
     "metadata": {},
     "output_type": "display_data"
    }
   ],
   "source": [
    "pop_sprs_indk = []\n",
    "pop_sprs_indv = []\n",
    "for i in range(num_images):\n",
    "    mean_over_pop = np.squeeze(ns.response[i,:,0])\n",
    "    pop_sprs_indk.append(get_indk(mean_over_pop))\n",
    "    pop_sprs_indv.append(get_indv(mean_over_pop))\n",
    "    \n",
    "# now plot\n",
    "fig, axs = plt.subplots(1, 3, figsize=(15, 5))\n",
    "axs = axs.ravel()\n",
    "\n",
    "axs[0].hist(pop_sprs_indk)\n",
    "axs[0].set_ylabel('Number of images')\n",
    "axs[0].set_xlabel('Population Sparsity Index (kurtosis)')\n",
    "plt.tick_params(axis='y', which='both', top='off')\n",
    "\n",
    "axs[1].hist(pop_sprs_indv)\n",
    "axs[1].set_xlabel('Population Sparsity Index (CV)')\n",
    "plt.tick_params(axis='y', which='both', top='off')\n",
    "\n",
    "\n",
    "# plot the first two metrics against each other to see their correlation\n",
    "axs[2].scatter(pop_sprs_indk,pop_sprs_indv)\n",
    "axs[2].set_xlabel('Population Sparsity Index (kurtosis)')\n",
    "axs[2].set_ylabel('Population Sparsity Index (CV)')\n",
    "axs[2].set_title('Comparison of two population sparsity metrics')"
   ]
  },
  {
   "cell_type": "markdown",
   "metadata": {},
   "source": [
    "# Now get the mean sparsity metric averaged over each mouse, for all transgenic mice in V1, and plot distribution"
   ]
  },
  {
   "cell_type": "code",
   "execution_count": 10,
   "metadata": {
    "collapsed": false
   },
   "outputs": [
    {
     "ename": "NameError",
     "evalue": "name 'structure_ids' is not defined",
     "traceback": [
      "\u001b[0;31m---------------------------------------------------------------------------\u001b[0m",
      "\u001b[0;31mNameError\u001b[0m                                 Traceback (most recent call last)",
      "\u001b[0;32m<ipython-input-10-cd6f954ac7bf>\u001b[0m in \u001b[0;36m<module>\u001b[0;34m()\u001b[0m\n\u001b[1;32m      4\u001b[0m \u001b[0mpop_sparsity_dict\u001b[0m \u001b[0;34m=\u001b[0m \u001b[0;34m{\u001b[0m\u001b[0;34m}\u001b[0m\u001b[0;34m\u001b[0m\u001b[0m\n\u001b[1;32m      5\u001b[0m \u001b[0mlife_sparsity_dict\u001b[0m \u001b[0;34m=\u001b[0m \u001b[0;34m{\u001b[0m\u001b[0;34m}\u001b[0m\u001b[0;34m\u001b[0m\u001b[0m\n\u001b[0;32m----> 6\u001b[0;31m \u001b[0;32mfor\u001b[0m \u001b[0mstructure_id\u001b[0m \u001b[0;32min\u001b[0m \u001b[0mstructure_ids\u001b[0m\u001b[0;34m:\u001b[0m\u001b[0;34m\u001b[0m\u001b[0m\n\u001b[0m\u001b[1;32m      7\u001b[0m     \u001b[0;32mprint\u001b[0m \u001b[0mstructure_id\u001b[0m\u001b[0;34m\u001b[0m\u001b[0m\n\u001b[1;32m      8\u001b[0m     \u001b[0mpop_sparsity_dict_cre\u001b[0m \u001b[0;34m=\u001b[0m \u001b[0;34m{\u001b[0m\u001b[0;34m}\u001b[0m\u001b[0;34m\u001b[0m\u001b[0m\n",
      "\u001b[0;31mNameError\u001b[0m: name 'structure_ids' is not defined"
     ],
     "output_type": "error"
    }
   ],
   "source": [
    "cre_lines = ['Rbp4-Cre_KL100']\n",
    "structure_ids = ['VISal', 'VISl', 'VISp', 'VISpm']\n",
    "\n",
    "pop_sparsity_dict = {}\n",
    "life_sparsity_dict = {}\n",
    "for structure_id in structure_ids:\n",
    "    print structure_id\n",
    "    pop_sparsity_dict_cre = {}\n",
    "    life_sparsity_dict_cre = {}\n",
    "    for cre_line in cre_lines:\n",
    "        container_list_filt = pd.DataFrame(boc.get_experiment_containers(targeted_structures=['VISp'],cre_lines=[cre_line]))\n",
    "\n",
    "        pop_sparsity_dict_cre_container = {}\n",
    "        life_sparsity_dict_cre_container = {}\n",
    "\n",
    "        for ind in np.arange(len(container_list_filt)):\n",
    "            container_id = container_list_filt['id'].values[ind]  # This goes through the different mice\n",
    "\n",
    "            print container_id\n",
    "\n",
    "            exp = boc.get_ophys_experiments(experiment_container_ids=[container_id], \n",
    "                                    stimuli=[stim_info.NATURAL_SCENES])[0]\n",
    "            data_set = boc.get_ophys_experiment_data(exp['id'])\n",
    "            ns = NaturalScenes(data_set)\n",
    "            num_cells = np.shape(ns.response[:,:,0])[1]-1\n",
    "    \n",
    "            life_sprs_indv = []\n",
    "            for i in range(num_cells):\n",
    "                mean_over_image = np.squeeze(ns.response[:,i,0])\n",
    "                life_sprs_indv.append(get_indv(mean_over_image))\n",
    "                \n",
    "            pop_sprs_indv = []\n",
    "            for i in range(num_images-1):\n",
    "                mean_over_pop = np.squeeze(ns.response[i,:,0])\n",
    "                pop_sprs_indv.append(get_indv(mean_over_pop))\n",
    "    \n",
    "            pop_sparsity_dict_cre_container[container_id] = np.mean(pop_sprs_indv)\n",
    "            life_sparsity_dict_cre_container[container_id] = np.mean(life_sprs_indv)\n",
    "        pop_sparsity_dict_cre[cre_line] = pop_sparsity_dict_cre_container\n",
    "        life_sparsity_dict_cre[cre_line] = life_sparsity_dict_cre_container\n",
    "    pop_sparsity_dict[structure_id] = pop_sparsity_dict_cre\n",
    "    life_sparsity_dict[structure_id] = life_sparsity_dict_cre"
   ]
  },
  {
   "cell_type": "code",
   "execution_count": null,
   "metadata": {
    "collapsed": false
   },
   "outputs": [],
   "source": [
    "# save the data\n",
    "results_file='nat_scenes_v1_sparsity.pkl'\n",
    "f=open(results_file,\"wb\")\n",
    "cpickle.dump(sparsity_dict_cre, f,protocol=cpickle.HIGHEST_PROTOCOL)\n",
    "f.close()"
   ]
  }
 ],
 "metadata": {
  "kernelspec": {
   "display_name": "Python 2",
   "language": "python",
   "name": "python2"
  },
  "language_info": {
   "codemirror_mode": {
    "name": "ipython",
    "version": 2.0
   },
   "file_extension": ".py",
   "mimetype": "text/x-python",
   "name": "python",
   "nbconvert_exporter": "python",
   "pygments_lexer": "ipython2",
   "version": "2.7.12"
  }
 },
 "nbformat": 4,
 "nbformat_minor": 0
}