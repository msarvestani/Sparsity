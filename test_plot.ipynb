{
 "cells": [
  {
   "cell_type": "code",
   "execution_count": null,
   "metadata": {
    "collapsed": true
   },
   "outputs": [],
   "source": [
    "#plot sparsity dicts"
   ]
  },
  {
   "cell_type": "code",
   "execution_count": 3,
   "metadata": {
    "collapsed": true
   },
   "outputs": [],
   "source": [
    "import os\n",
    "import platform\n",
    "import pandas as pd\n",
    "import numpy as np\n",
    "import cPickle as cpickle\n",
    "import matplotlib.pyplot as plt\n",
    "%matplotlib inline\n",
    "\n",
    "from allensdk.core.brain_observatory_cache import BrainObservatoryCache\n",
    "import allensdk.brain_observatory.stimulus_info as stim_info\n",
    "\n",
    "# load the data\n",
    "results_file='nat_scenes_sparsity.pkl'\n",
    "f = open(results_file, \"rb\")\n",
    "pop_sparsity_dict_ns = cpickle.load(f)\n",
    "lifetime_sparsity_dict_ns = cpickle.load(f)\n",
    "f.close()\n",
    "\n",
    "# load the data\n",
    "results_file='static_gratings_sparsity.pkl'\n",
    "f = open(results_file, \"rb\")\n",
    "pop_sparsity_dict_sg = cpickle.load(f)\n",
    "lifetime_sparsity_dict_sg = cpickle.load(f)\n",
    "f.close()\n",
    "\n"
   ]
  },
  {
   "cell_type": "code",
   "execution_count": 7,
   "metadata": {
    "collapsed": false
   },
   "outputs": [
    {
     "data": {
      "text/plain": [
       "<matplotlib.text.Text at 0x18eefb00>"
      ]
     },
     "execution_count": 7,
     "metadata": {},
     "output_type": "execute_result"
    },
    {
     "data": {
      "image/png": "[encoded data removed]",
      "text/plain": [
       "<matplotlib.figure.Figure at 0x18de8b00>"
      ]
     },
     "metadata": {},
     "output_type": "display_data"
    }
   ],
   "source": [
    " # now plot\n",
    "cre_lines = ['Rbp4-Cre_KL100']\n",
    "structure_ids = ['VISal', 'VISl', 'VISp', 'VISpm']\n",
    "\n",
    "\n",
    "fig, ax = plt.subplots(figsize=(8, 4))\n",
    "symbols = ['o', '^', 's', 'h', 'v', 'D'] #used to denote different cre_lines\n",
    "colors = ['red', 'blue', 'orange', 'green'] #used for structures\n",
    "for i, structure_name in enumerate(structure_ids):\n",
    "    for j, cre_line in enumerate(cre_lines):\n",
    "        container_ids = pop_sparsity_dict_ns[structure_name][cre_line].keys()\n",
    "        for k, container_id in enumerate(container_ids):\n",
    "            values = np.asarray(pop_sparsity_dict_ns[structure_name][cre_line][container_id])\n",
    "            ax.plot((i * 7 + j) * np.ones(values.size), values, symbols[j], color=colors[i],\n",
    "                    markerfacecolor=colors[i],\n",
    "                    markeredgewidth=1.5, alpha=0.6)\n",
    "for j, cre_line in enumerate(cre_lines):\n",
    "    ax.plot([-1], [0], symbols[j], markerfacecolor='none', markeredgewidth=1.5, label=cre_lines[j])\n",
    "ax.legend()\n",
    "ax.set_xticklabels(structure_ids)\n",
    "ax.set_xticks([2.5, 8.5, 14.5, 20.5])\n",
    "ax.set_xlim([-0.5, 25])\n",
    "ax.set_ylim([0, 1])\n",
    "ax.set_ylabel('Average Population Sparsity')\n",
    "#fig.savefig('meanpc_plot.eps')  # save the figure to file\n"
   ]
  },
  {
   "cell_type": "code",
   "execution_count": 8,
   "metadata": {
    "collapsed": false
   },
   "outputs": [
    {
     "data": {
      "text/plain": [
       "{'VISal': {'Rbp4-Cre_KL100': {511510635: 0.52373594786637856,\n",
       "   511510758: 0.53934188067279509,\n",
       "   511510896: 0.59801803679948962,\n",
       "   511510974: 0.52426421034796122,\n",
       "   529770662: 0.5050099765900673}},\n",
       " 'VISl': {'Rbp4-Cre_KL100': {511510635: 0.52373594786637856,\n",
       "   511510758: 0.53934188067279509,\n",
       "   511510896: 0.59801803679948962,\n",
       "   511510974: 0.52426421034796122,\n",
       "   529770662: 0.5050099765900673}},\n",
       " 'VISp': {'Rbp4-Cre_KL100': {511510635: 0.52373594786637856,\n",
       "   511510758: 0.53934188067279509,\n",
       "   511510896: 0.59801803679948962,\n",
       "   511510974: 0.52426421034796122,\n",
       "   529770662: 0.5050099765900673}},\n",
       " 'VISpm': {'Rbp4-Cre_KL100': {511510635: 0.52373594786637856,\n",
       "   511510758: 0.53934188067279509,\n",
       "   511510896: 0.59801803679948962,\n",
       "   511510974: 0.52426421034796122,\n",
       "   529770662: 0.5050099765900673}}}"
      ]
     },
     "execution_count": 8,
     "metadata": {},
     "output_type": "execute_result"
    }
   ],
   "source": [
    "pop_sparsity_dict_ns"
   ]
  },
  {
   "cell_type": "code",
   "execution_count": null,
   "metadata": {
    "collapsed": true
   },
   "outputs": [],
   "source": []
  }
 ],
 "metadata": {
  "kernelspec": {
   "display_name": "Python 2",
   "language": "python",
   "name": "python2"
  },
  "language_info": {
   "codemirror_mode": {
    "name": "ipython",
    "version": 2
   },
   "file_extension": ".py",
   "mimetype": "text/x-python",
   "name": "python",
   "nbconvert_exporter": "python",
   "pygments_lexer": "ipython2",
   "version": "2.7.10"
  }
 },
 "nbformat": 4,
 "nbformat_minor": 0
}
